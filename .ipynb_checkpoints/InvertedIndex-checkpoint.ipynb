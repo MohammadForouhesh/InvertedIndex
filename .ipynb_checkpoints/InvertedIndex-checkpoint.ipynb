{
 "cells": [
  {
   "cell_type": "code",
   "execution_count": 1,
   "metadata": {
    "collapsed": true
   },
   "outputs": [],
   "source": [
    "\n",
    "class LinkedList:\n",
    "    class Node:\n",
    "        \"\"\"\n",
    "        Lightweight, nonpublic class for storing a doubly linked node.\n",
    "        \"\"\"\n",
    "        __slots__ = 'element', 'prev', 'next'  # streamline memory\n",
    "\n",
    "        def __init__(self, element, prev, next):  # initialize node's fields\n",
    "            self.element = element  # user's element\n",
    "            self.prev = prev  # previous node reference\n",
    "            self.next = next\n",
    "\n",
    "    def __init__(self):\n",
    "        \"\"\"\n",
    "        Create an empty list.\n",
    "        \"\"\"\n",
    "        self.header = self.Node(None, None, None)\n",
    "        self.trailer = self.Node(None, None, None)\n",
    "        self.header.next = self.trailer  # trailer is after header\n",
    "        self.trailer.prev = self.header  # header is before trailer\n",
    "        self.size = 0\n",
    "\n",
    "    def __len__(self):\n",
    "        return self._size\n",
    "\n",
    "    def __iter__(self):\n",
    "        if self.is_empty():\n",
    "            yield self.Node(None, None, None)\n",
    "        current = self.header\n",
    "        while current is not None:\n",
    "            yield current\n",
    "            current = current.next\n"
   ]
  },
  {
   "cell_type": "code",
   "execution_count": null,
   "metadata": {
    "collapsed": true
   },
   "outputs": [],
   "source": []
  }
 ],
 "metadata": {
  "kernelspec": {
   "display_name": "Python 3",
   "language": "python",
   "name": "python3"
  },
  "language_info": {
   "codemirror_mode": {
    "name": "ipython",
    "version": 3
   },
   "file_extension": ".py",
   "mimetype": "text/x-python",
   "name": "python",
   "nbconvert_exporter": "python",
   "pygments_lexer": "ipython3",
   "version": "3.5.1"
  }
 },
 "nbformat": 4,
 "nbformat_minor": 0
}
