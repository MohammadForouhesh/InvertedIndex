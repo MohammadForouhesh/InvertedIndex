{
 "cells": [
  {
   "cell_type": "code",
   "execution_count": 2,
   "metadata": {
    "collapsed": true
   },
   "outputs": [],
   "source": [
    "\n",
    "class LinkedList:\n",
    "    class Node:\n",
    "        \"\"\"\n",
    "        Lightweight, nonpublic class for storing a doubly linked node.\n",
    "        \"\"\"\n",
    "        __slots__ = 'element', 'prev', 'next'  # streamline memory\n",
    "\n",
    "        def __init__(self, element, prev, next):  # initialize node's fields\n",
    "            self.element = element  # user's element\n",
    "            self.prev = prev  # previous node reference\n",
    "            self.next = next\n",
    "\n",
    "    def __init__(self):\n",
    "        \"\"\"\n",
    "        Create an empty list.\n",
    "        \"\"\"\n",
    "        self.header = self.Node(None, None, None)\n",
    "        self.trailer = self.Node(None, None, None)\n",
    "        self.header.next = self.trailer  # trailer is after header\n",
    "        self.trailer.prev = self.header  # header is before trailer\n",
    "        self.size = 0\n",
    "\n",
    "    def __len__(self):\n",
    "        return self._size\n",
    "\n",
    "    def __iter__(self):\n",
    "        if self.is_empty():\n",
    "            yield self.Node(None, None, None)\n",
    "        current = self.header\n",
    "        while current is not None:\n",
    "            yield current\n",
    "            current = current.next\n",
    "\n",
    "    def is_empty(self) -> bool:\n",
    "        return self.size == 0\n",
    "\n",
    "    def insert_between(self, element, predecessor: Node, successor: Node) -> Node:\n",
    "        newest = self.Node(element, predecessor, successor)  # linked to neighbors\n",
    "        predecessor.next = newest\n",
    "        successor.prev = newest\n",
    "        self.size += 1\n",
    "        return newest\n",
    "\n",
    "    def delete_node(self, node: Node) -> type(Node.element):\n",
    "        predecessor = node.prev\n",
    "        successor = node.next\n",
    "        predecessor.next = successor\n",
    "        successor.prev = predecessor\n",
    "        self.size -= 1\n",
    "        element = node.element  # record deleted element\n",
    "        node.prev = node.next = node.element = None  # deprecate node\n",
    "        return element\n",
    "\n",
    "    # -----------------------------------------------------------------------------------------------------------------\n",
    "\n",
    "    def add_first(self, element: type(Node.element)) -> Node:\n",
    "        return self.insert_between(element, self.header, self.header.next)\n",
    "\n",
    "    def add_last(self, element: type(Node.element)) -> Node:\n",
    "        return self.insert_between(element, self.trailer.prev, self.trailer)\n",
    "\n",
    "    def add_before(self, prevElement: type(Node.element), element: type(Node.element)) -> Node:\n",
    "        original = self.search(prevElement)\n",
    "        return self.insert_between(element, original.prev, original)\n",
    "\n",
    "    def add_after(self, nextElement: type(Node.element), element: type(Node.element)) -> Node:\n",
    "        original = self.search(nextElement)\n",
    "        return self.insert_between(element, original, original.next)\n",
    "\n",
    "    # -------------------------------------------------------------------------------------------------------------------\n",
    "\n",
    "    def delete(self, undesireElement) -> type(Node.element):\n",
    "        original = self.search(undesireElement)\n",
    "        return self.delete_node(original)\n",
    "\n",
    "    def search(self, k: type(Node.element)) -> Node:\n",
    "        p = self.header\n",
    "        while p.next is not None:\n",
    "            p = p.next\n",
    "            if p.data == k:\n",
    "                return p\n",
    "        return None\n"
   ]
  },
  {
   "cell_type": "code",
   "execution_count": 3,
   "metadata": {
    "collapsed": false
   },
   "outputs": [
    {
     "name": "stdout",
     "output_type": "stream",
     "text": [
      "None\n",
      "e\n",
      "s\n",
      "m\n",
      "a\n",
      "i\n",
      "l\n",
      "None\n"
     ]
    }
   ],
   "source": [
    "\n",
    "ll = LinkedList()\n",
    "ll.add_last('h')\n",
    "ll.add_last('o')\n",
    "ll.add_last('m')\n",
    "ll.add_last('a')\n",
    "ll.add_last('i')\n",
    "ll.add_last('l')\n",
    "i = 0\n",
    "for l in ll:\n",
    "    print(l.element)\n",
    "    i += 1\n",
    "    if i > 10:\n",
    "        raise IndexError()\n"
   ]
  },
  {
   "cell_type": "code",
   "execution_count": null,
   "metadata": {
    "collapsed": true
   },
   "outputs": [],
   "source": []
  }
 ],
 "metadata": {
  "kernelspec": {
   "display_name": "Python 3",
   "language": "python",
   "name": "python3"
  },
  "language_info": {
   "codemirror_mode": {
    "name": "ipython",
    "version": 3
   },
   "file_extension": ".py",
   "mimetype": "text/x-python",
   "name": "python",
   "nbconvert_exporter": "python",
   "pygments_lexer": "ipython3",
   "version": "3.5.1"
  }
 },
 "nbformat": 4,
 "nbformat_minor": 0
}
